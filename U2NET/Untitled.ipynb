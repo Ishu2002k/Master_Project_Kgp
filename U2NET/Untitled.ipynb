{
 "cells": [
  {
   "cell_type": "code",
   "execution_count": 2,
   "id": "b9bce9ce-3c9e-41a7-8472-8eef72216b36",
   "metadata": {},
   "outputs": [],
   "source": [
    "from data_loader import RescaleT"
   ]
  },
  {
   "cell_type": "code",
   "execution_count": null,
   "id": "9a72f98f-3c29-4475-b429-fc445772269f",
   "metadata": {},
   "outputs": [],
   "source": []
  }
 ],
 "metadata": {
  "kernelspec": {
   "display_name": "Python 3 (ipykernel)",
   "language": "python",
   "name": "python3"
  },
  "language_info": {
   "codemirror_mode": {
    "name": "ipython",
    "version": 3
   },
   "file_extension": ".py",
   "mimetype": "text/x-python",
   "name": "python",
   "nbconvert_exporter": "python",
   "pygments_lexer": "ipython3",
   "version": "3.11.5"
  }
 },
 "nbformat": 4,
 "nbformat_minor": 5
}
